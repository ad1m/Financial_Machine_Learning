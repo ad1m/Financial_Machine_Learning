{
 "cells": [
  {
   "cell_type": "markdown",
   "metadata": {},
   "source": [
    "<center><h1><font color = \"orange\" >Financial Data Structures</font></h1></center>"
   ]
  },
  {
   "cell_type": "markdown",
   "metadata": {},
   "source": [
    "<h4>Introduction:</h4>\n",
    "<p>In this notebook we learn to work with unstructured financial data and from this to derive a structured dataset for machine learning algorithms. Generally, it is not advisable to consume someone else's preproccessed dataset as the likely outcome will be that you are figuring out what they have already figured out. We want to take an unstructured dataset and process it such that we can find novel informative features.</p>"
   ]
  },
  {
   "cell_type": "markdown",
   "metadata": {},
   "source": [
    "<h4>Structured V.S. Unstructured Data:</h4>\n",
    "<p>Structured data is data that you would usually find in a relational database. For instance: phone numbers, Social Security numbers, or ZIP codes. Even text strings of variable length like names are contained in records, making it a simple matter to search. Unstructured Data is data that is in the wild that does not have a concrete structure. For instance, social media text feeds, audio, and images.</p>"
   ]
  },
  {
   "cell_type": "markdown",
   "metadata": {},
   "source": [
    "<h4>The 4 Types of Financial Data:</h4>\n",
    "<p>There are four types of financial data:</p>\n",
    "<ul>\n",
    "    <li><b>Fundamental Data:</b> Data you can find in regulatory findings such as quarterly reports. For example: Assets, liabilities, sales, costs, and earnings. This data is extremly regularized and low frequency. Since this data is so accessible to the marketplace, it is unlikely that there is much value left to be exploited. However, it can be useful in combination with other data types.</li>\n",
    "    <li><b>Market Data:</b> Data from all trading activity that takes place in an exchange such as price, volatility, dividends, and volume.</li>\n",
    "    <li><b>Analytics:</b> Data that has already been proccessed in a particular way such as analyst recommendations, credit ratings, earnings expectations, and news sentiment. This is data that is usually purchased from an alternate vendor.</li>\n",
    "    <li><b>Alternative Data:</b> Primary information that has not made it yet to other sources such as sattelite images, google searches, and twitter posts. This data is usually more unique and harder to process.</li>\n",
    "</ul>\n",
    "<p><b>Note:</b> A dataset might be useful if it annoys the data infrastructure team. Perhaps your competitors did not try to use it for particular reasons or gave up midway.</p>"
   ]
  },
  {
   "cell_type": "markdown",
   "metadata": {},
   "source": [
    "<h4>Bars:</h4>\n",
    "<p>The data structures used to contain trading information are often referred to as bars. This is basically a table of data and the rows contain information. These rows are the \"bars\". These bars can vary greatly in how they were constructed but in general there are two categories of bars:</p>\n",
    "<ul>\n",
    "    <li>Standard Bar Methods</li>\n",
    "    <li>Information-Driven Methods</li>\n",
    "</ul>"
   ]
  },
  {
   "cell_type": "markdown",
   "metadata": {},
   "source": [
    "<h4>Standard Bars:</h4>\n",
    "<p>Standard Bars aim to transform a series of observations that arrive at an irregular frequency into a homogenous series derived from regular sampling. There are 4 main type of standard bars:</p>\n",
    "<ul>\n",
    "    <li>Time Bars</li>\n",
    "    <li>Tick Bars</li>\n",
    "    <li>Volume Bars</li>\n",
    "    <li>Dollar Bars</li>\n",
    "</ul>"
   ]
  },
  {
   "cell_type": "markdown",
   "metadata": {},
   "source": [
    "<h5>Time Bars:</h5>\n",
    "<p>Time Bars are obtained by sampling information at a fixed time interval e.g. once every minute. This information usually contains:</p>\n",
    "<ul>\n",
    "    <li>Timestamp</li>\n",
    "    <li>Volume</li>\n",
    "    <li>Open</li>\n",
    "    <li>Close</li>\n",
    "    <li>High</li>\n",
    "    <li>Low</li>\n",
    "</ul>\n",
    "<p>This is the typical csv data that you will find from yahoo finance for a particular equity. This type of data should be avoided for two reasons:</p>\n",
    "<ol>\n",
    "    <li>Markets do not process information at a constant time interval e.g. the hour of the open is more active than the hour around noon. Here time bars oversample information during low-activity periods and undersample information during high-activity periods.</li>\n",
    "    <li>Time sampled series often exhibit poor statistical properties</li>\n",
    "</ol>\n",
    "<p>Below we see an example of time bars:</p>"
   ]
  },
  {
   "cell_type": "code",
   "execution_count": 6,
   "metadata": {},
   "outputs": [
    {
     "data": {
      "text/html": [
       "<div>\n",
       "<style scoped>\n",
       "    .dataframe tbody tr th:only-of-type {\n",
       "        vertical-align: middle;\n",
       "    }\n",
       "\n",
       "    .dataframe tbody tr th {\n",
       "        vertical-align: top;\n",
       "    }\n",
       "\n",
       "    .dataframe thead th {\n",
       "        text-align: right;\n",
       "    }\n",
       "</style>\n",
       "<table border=\"1\" class=\"dataframe\">\n",
       "  <thead>\n",
       "    <tr style=\"text-align: right;\">\n",
       "      <th></th>\n",
       "      <th>Date</th>\n",
       "      <th>Open</th>\n",
       "      <th>High</th>\n",
       "      <th>Low</th>\n",
       "      <th>Close</th>\n",
       "      <th>Adj Close</th>\n",
       "      <th>Volume</th>\n",
       "    </tr>\n",
       "  </thead>\n",
       "  <tbody>\n",
       "    <tr>\n",
       "      <th>0</th>\n",
       "      <td>1980-12-12</td>\n",
       "      <td>0.513393</td>\n",
       "      <td>0.515625</td>\n",
       "      <td>0.513393</td>\n",
       "      <td>0.513393</td>\n",
       "      <td>0.415317</td>\n",
       "      <td>117258400.0</td>\n",
       "    </tr>\n",
       "    <tr>\n",
       "      <th>1</th>\n",
       "      <td>1980-12-15</td>\n",
       "      <td>0.488839</td>\n",
       "      <td>0.488839</td>\n",
       "      <td>0.486607</td>\n",
       "      <td>0.486607</td>\n",
       "      <td>0.393649</td>\n",
       "      <td>43971200.0</td>\n",
       "    </tr>\n",
       "    <tr>\n",
       "      <th>2</th>\n",
       "      <td>1980-12-16</td>\n",
       "      <td>0.453125</td>\n",
       "      <td>0.453125</td>\n",
       "      <td>0.450893</td>\n",
       "      <td>0.450893</td>\n",
       "      <td>0.364757</td>\n",
       "      <td>26432000.0</td>\n",
       "    </tr>\n",
       "    <tr>\n",
       "      <th>3</th>\n",
       "      <td>1980-12-17</td>\n",
       "      <td>0.462054</td>\n",
       "      <td>0.464286</td>\n",
       "      <td>0.462054</td>\n",
       "      <td>0.462054</td>\n",
       "      <td>0.373786</td>\n",
       "      <td>21610400.0</td>\n",
       "    </tr>\n",
       "    <tr>\n",
       "      <th>4</th>\n",
       "      <td>1980-12-18</td>\n",
       "      <td>0.475446</td>\n",
       "      <td>0.477679</td>\n",
       "      <td>0.475446</td>\n",
       "      <td>0.475446</td>\n",
       "      <td>0.384620</td>\n",
       "      <td>18362400.0</td>\n",
       "    </tr>\n",
       "    <tr>\n",
       "      <th>5</th>\n",
       "      <td>1980-12-19</td>\n",
       "      <td>0.504464</td>\n",
       "      <td>0.506696</td>\n",
       "      <td>0.504464</td>\n",
       "      <td>0.504464</td>\n",
       "      <td>0.408095</td>\n",
       "      <td>12157600.0</td>\n",
       "    </tr>\n",
       "    <tr>\n",
       "      <th>6</th>\n",
       "      <td>1980-12-22</td>\n",
       "      <td>0.529018</td>\n",
       "      <td>0.531250</td>\n",
       "      <td>0.529018</td>\n",
       "      <td>0.529018</td>\n",
       "      <td>0.427958</td>\n",
       "      <td>9340800.0</td>\n",
       "    </tr>\n",
       "    <tr>\n",
       "      <th>7</th>\n",
       "      <td>1980-12-23</td>\n",
       "      <td>0.551339</td>\n",
       "      <td>0.553571</td>\n",
       "      <td>0.551339</td>\n",
       "      <td>0.551339</td>\n",
       "      <td>0.446015</td>\n",
       "      <td>11737600.0</td>\n",
       "    </tr>\n",
       "    <tr>\n",
       "      <th>8</th>\n",
       "      <td>1980-12-24</td>\n",
       "      <td>0.580357</td>\n",
       "      <td>0.582589</td>\n",
       "      <td>0.580357</td>\n",
       "      <td>0.580357</td>\n",
       "      <td>0.469489</td>\n",
       "      <td>12000800.0</td>\n",
       "    </tr>\n",
       "    <tr>\n",
       "      <th>9</th>\n",
       "      <td>1980-12-26</td>\n",
       "      <td>0.633929</td>\n",
       "      <td>0.636161</td>\n",
       "      <td>0.633929</td>\n",
       "      <td>0.633929</td>\n",
       "      <td>0.512827</td>\n",
       "      <td>13893600.0</td>\n",
       "    </tr>\n",
       "  </tbody>\n",
       "</table>\n",
       "</div>"
      ],
      "text/plain": [
       "         Date      Open      High       Low     Close  Adj Close       Volume\n",
       "0  1980-12-12  0.513393  0.515625  0.513393  0.513393   0.415317  117258400.0\n",
       "1  1980-12-15  0.488839  0.488839  0.486607  0.486607   0.393649   43971200.0\n",
       "2  1980-12-16  0.453125  0.453125  0.450893  0.450893   0.364757   26432000.0\n",
       "3  1980-12-17  0.462054  0.464286  0.462054  0.462054   0.373786   21610400.0\n",
       "4  1980-12-18  0.475446  0.477679  0.475446  0.475446   0.384620   18362400.0\n",
       "5  1980-12-19  0.504464  0.506696  0.504464  0.504464   0.408095   12157600.0\n",
       "6  1980-12-22  0.529018  0.531250  0.529018  0.529018   0.427958    9340800.0\n",
       "7  1980-12-23  0.551339  0.553571  0.551339  0.551339   0.446015   11737600.0\n",
       "8  1980-12-24  0.580357  0.582589  0.580357  0.580357   0.469489   12000800.0\n",
       "9  1980-12-26  0.633929  0.636161  0.633929  0.633929   0.512827   13893600.0"
      ]
     },
     "execution_count": 6,
     "metadata": {},
     "output_type": "execute_result"
    }
   ],
   "source": [
    "import pandas as pd \n",
    "df = pd.read_csv('data/AAPL.csv')\n",
    "df.head(10)"
   ]
  },
  {
   "cell_type": "markdown",
   "metadata": {},
   "source": [
    "<h5>Tick Bars:</h5>"
   ]
  },
  {
   "cell_type": "markdown",
   "metadata": {},
   "source": [
    "<h5>Volume Bars:</h5>"
   ]
  },
  {
   "cell_type": "markdown",
   "metadata": {},
   "source": [
    "<h5>Dollar Bars:</h5>"
   ]
  },
  {
   "cell_type": "markdown",
   "metadata": {},
   "source": [
    "<h4>Information-Driven Bars:</h4>"
   ]
  },
  {
   "cell_type": "code",
   "execution_count": null,
   "metadata": {},
   "outputs": [],
   "source": []
  }
 ],
 "metadata": {
  "kernelspec": {
   "display_name": "Python 3",
   "language": "python",
   "name": "python3"
  },
  "language_info": {
   "codemirror_mode": {
    "name": "ipython",
    "version": 3
   },
   "file_extension": ".py",
   "mimetype": "text/x-python",
   "name": "python",
   "nbconvert_exporter": "python",
   "pygments_lexer": "ipython3",
   "version": "3.6.5"
  }
 },
 "nbformat": 4,
 "nbformat_minor": 2
}
